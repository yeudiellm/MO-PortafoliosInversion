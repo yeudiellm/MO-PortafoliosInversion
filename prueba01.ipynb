{
 "cells": [
  {
   "cell_type": "code",
   "execution_count": 8,
   "metadata": {},
   "outputs": [],
   "source": [
    "#Básicos para manipulacion de datos \n",
    "import pandas as pd\n",
    "import numpy as np\n",
    "#Graficas \n",
    "import matplotlib.pyplot as plt\n",
    "import seaborn as sns\n",
    "import plotly.express as px\n",
    "import plotly.graph_objects as go\n",
    "sns.set_theme()\n",
    "#Optimización multiobjetivo \n",
    "from pymoo.util.ref_dirs import get_reference_directions\n",
    "from pymoo.optimize import minimize\n",
    "from pymoo.core.population import Population\n",
    "from pymoo.core.mutation import Mutation\n",
    "\n",
    "from pymoo.core.population import Population\n",
    "#Finanzas \n",
    "import yfinance as yf\n",
    "import yesg\n",
    "\n",
    "#Plugins\n",
    "from tqdm import tqdm\n",
    "from itertools import compress\n",
    "from Plugins import pre_processing\n",
    "from Plugins import ArchievingStrategies\n",
    "from Plugins import my_plotting\n",
    "from Plugins import pymoo_extras\n",
    "from Plugins import DS"
   ]
  },
  {
   "cell_type": "code",
   "execution_count": 9,
   "metadata": {},
   "outputs": [],
   "source": [
    "from pymoo.core.sampling import Sampling\n",
    "class MySampling(Sampling):\n",
    "    def _do(self, problem, n_samples, **kwargs):\n",
    "        #100 individuos (a lo más 2000)\n",
    "        #problem.n_var la cantidad de activos. \n",
    "        X = get_reference_directions(\"energy\", problem.n_var, n_samples, seed=1)\n",
    "        return X "
   ]
  },
  {
   "cell_type": "code",
   "execution_count": 10,
   "metadata": {},
   "outputs": [],
   "source": [
    "from pymoo.core.crossover import Crossover\n",
    "from pymoo.core.variable import Real, get\n",
    "# ---------------------------------------------------------------------------------------------------------\n",
    "# Class\n",
    "# ---------------------------------------------------------------------------------------------------------\n",
    "def point_on_triangle(x0, x1, x2):\n",
    "    s, t = sorted([np.random.random(), np.random.random()])\n",
    "    return s*x0 + (t-s)*x1 + (1-t)*x2\n",
    "    \n",
    "def SPX(x0,x1, x2, epsilon,n_offspring): \n",
    "    CoM = 1/3*(x0+x1+x2)\n",
    "    V1=CoM+(x0-CoM)*(1+epsilon)\n",
    "    V2=CoM+(x1-CoM)*(1+epsilon)\n",
    "    V3=CoM+(x2-CoM)*(1+epsilon)\n",
    "    return [point_on_triangle(x0,x1, x2) for _ in range(n_offspring)]\n",
    "\n",
    "class SimplexCrossover(Crossover):\n",
    "    def __init__(self,\n",
    "                 n_offsprings=3, \n",
    "                 epsilon = 0.05,\n",
    "                 **kwargs):\n",
    "        super().__init__(3, n_offsprings, **kwargs)\n",
    "        self.epsilon =  epsilon\n",
    "        \n",
    "    def _do(self, problem, X, **kwargs):\n",
    "        _, n_matings, _ = X.shape \n",
    "        Y = np.full_like(X, None)\n",
    "        for k in range(n_matings):\n",
    "             # get the first and the second parent\n",
    "            x0, x1, x2 = X[0, k, :], X[1, k, :], X[2, k, :]\n",
    "            off_ = SPX(x0, x1, x2, self.epsilon, self.n_offsprings)\n",
    "            Y[0, k, :] = off_[0]\n",
    "            Y[1, k, :] = off_[1]\n",
    "            Y[2, k, :] = off_[2]\n",
    "\n",
    "        return Y\n"
   ]
  },
  {
   "cell_type": "code",
   "execution_count": 11,
   "metadata": {},
   "outputs": [],
   "source": [
    "import numpy as np\n",
    "\n",
    "from pymoo.core.mutation import Mutation\n",
    "from pymoo.core.variable import Real, get\n",
    "from pymoo.operators.repair.bounds_repair import repair_random_init\n",
    "\n",
    "\n",
    "# ---------------------------------------------------------------------------------------------------------\n",
    "# Function\n",
    "# ---------------------------------------------------------------------------------------------------------\n",
    "\n",
    "\n",
    "def mut_gauss(X, xl, xu, sigma, prob):\n",
    "    n, n_var = X.shape\n",
    "    assert len(sigma) == n\n",
    "    assert len(prob) == n\n",
    "\n",
    "    Xp = np.full(X.shape, np.inf)\n",
    "\n",
    "    mut = np.random.random(X.shape) < prob[:, None]\n",
    "\n",
    "    Xp[:, :] = X\n",
    "\n",
    "    _xl = np.repeat(xl[None, :], X.shape[0], axis=0)[mut]\n",
    "    _xu = np.repeat(xu[None, :], X.shape[0], axis=0)[mut]\n",
    "    sigma = sigma[:, None].repeat(n_var, axis=1)[mut]\n",
    "    Xp[mut] = np.random.normal(X[mut], sigma * (_xu * _xl))\n",
    "\n",
    "    Xp = repair_random_init(Xp, X, xl, xu)\n",
    "\n",
    "    return Xp\n",
    "\n",
    "\n",
    "# ---------------------------------------------------------------------------------------------------------\n",
    "# Class\n",
    "# ---------------------------------------------------------------------------------------------------------\n",
    "\n",
    "\n",
    "class GaussianMutation(Mutation):\n",
    "\n",
    "    def __init__(self, sigma=0.1, **kwargs):\n",
    "        super().__init__(**kwargs)\n",
    "        self.sigma = Real(sigma, bounds=(0.01, 0.25), strict=(0.0, 1.0))\n",
    "\n",
    "    def _do(self, problem, X, **kwargs):\n",
    "        X = X.astype(float)\n",
    "\n",
    "        sigma = get(self.sigma, size=len(X))\n",
    "        prob_var = self.get_prob_var(problem, size=len(X))\n",
    "        print(X)\n",
    "        Xp = mut_gauss(X, problem.xl, problem.xu, sigma, prob_var)\n",
    "\n",
    "        return Xp"
   ]
  },
  {
   "cell_type": "markdown",
   "metadata": {},
   "source": [
    "## Experimento"
   ]
  },
  {
   "cell_type": "code",
   "execution_count": 12,
   "metadata": {},
   "outputs": [],
   "source": [
    "assets = pd.read_csv( 'Indices/tickers_dowjones.csv', index_col=0)['0'].tolist()\n",
    "returns= pd.read_csv( 'data/dowjones_returns.csv', index_col=0)\n",
    "assets_info=pd.read_csv( 'data/dowjones_assets_info.csv', index_col=0)\n",
    "best_assets=pd.read_csv( 'data/dowjones_best_assets.csv', index_col=0)"
   ]
  },
  {
   "cell_type": "code",
   "execution_count": 13,
   "metadata": {},
   "outputs": [],
   "source": [
    "PROFITS, RISK, ESG_SCORES = pre_processing.get_final_assets(returns[best_assets.index[:2]], assets_info.loc[best_assets.index[:2]])\n",
    "portfolio_problem = pymoo_extras.Portfolio_Problem(len(PROFITS), PROFITS, RISK, ESG_SCORES)\n",
    "from finquant import efficient_frontier\n",
    "ef = efficient_frontier.EfficientFrontier(pd.Series(PROFITS), pd.DataFrame(RISK), freq=252)\n",
    "ef_R = ef.efficient_frontier()"
   ]
  },
  {
   "cell_type": "code",
   "execution_count": 14,
   "metadata": {},
   "outputs": [],
   "source": [
    "from pymoo.termination import get_termination\n",
    "from pymoo.algorithms.moo.nsga2 import NSGA2\n",
    "termination = get_termination(\"n_gen\", 2)\n",
    "nsgaii = NSGA2(pop_size=20,\n",
    "               sampling=MySampling(), \n",
    "               crossover=SimplexCrossover(),\n",
    "               mutation = GaussianMutation(),\n",
    "               repair=pymoo_extras.Portfolio_Repair()\n",
    "               )"
   ]
  },
  {
   "cell_type": "code",
   "execution_count": 15,
   "metadata": {},
   "outputs": [],
   "source": [
    "eps = np.array([0.01,0.01])\n",
    "colors = ['rgb(27,158, 119)']"
   ]
  },
  {
   "cell_type": "code",
   "execution_count": 16,
   "metadata": {},
   "outputs": [
    {
     "name": "stdout",
     "output_type": "stream",
     "text": [
      "[[0.35519792 0.64480208]\n",
      " [0.28965663 0.71034337]\n",
      " [0.48264931 0.51735069]\n",
      " [0.74985004 0.25014996]\n",
      " [0.5824122  0.4175878 ]\n",
      " [0.72749898 0.27250102]\n",
      " [0.65940464 0.34059536]\n",
      " [0.32944041 0.67055959]\n",
      " [0.38672129 0.61327871]\n",
      " [0.35950949 0.64049051]\n",
      " [0.66735164 0.33264836]\n",
      " [0.72652732 0.27347268]\n",
      " [0.59874938 0.40125062]\n",
      " [0.55419389 0.44580611]\n",
      " [0.34788431 0.65211569]\n",
      " [0.57412027 0.42587973]\n",
      " [0.52413201 0.47586799]\n",
      " [0.69405419 0.30594581]\n",
      " [0.53455326 0.46544674]\n",
      " [0.71536868 0.28463132]\n",
      " [0.27598417 0.72401583]]\n"
     ]
    },
    {
     "data": {
      "application/vnd.plotly.v1+json": {
       "config": {
        "plotlyServerURL": "https://plot.ly"
       },
       "data": [
        {
         "marker": {
          "color": "#222A2A"
         },
         "mode": "lines",
         "name": "Markowitz",
         "type": "scatter",
         "x": [
          0.17270719283262714,
          0.1717657655985911,
          0.17075599733975177,
          0.16977337883041038,
          0.16881838415194095,
          0.16789148469183338,
          0.16699314828028572,
          0.1661238382932215,
          0.16528401272404078,
          0.164474123226807,
          0.16369461413397343,
          0.16294592145215409,
          0.16222847183984143,
          0.1615426815713619,
          0.160888955491731,
          0.1602676859674198,
          0.1596792518383661,
          0.1591240173768459,
          0.1586023312590666,
          0.15811452555553585,
          0.15766091474639884,
          0.15724179476801914,
          0.15685744209709013,
          0.156508112878514,
          0.15619404210315746,
          0.15591544284139952,
          0.15567250553811374,
          0.15546539737438664,
          0.1552942617008606,
          0.1551592175471131,
          0.15506035921094372,
          0.15499775593084883,
          0.15497145164432258,
          0.1549814648339465,
          0.15502778846252216,
          0.15511038999777801,
          0.15522921152644764,
          0.15538416995678808,
          0.15557515730789062,
          0.15580204108344473,
          0.15606466472695674,
          0.1563628481548126,
          0.1566963883630063,
          0.1570650601028528,
          0.15746861662056022,
          0.15790679045516295,
          0.15837929428901384,
          0.15888582184480438,
          0.1594260488229239,
          0.1599996338728851,
          0.1606062195925263,
          0.16124543354875462,
          0.16191688931370454,
          0.16262018751035986,
          0.16335491686190623,
          0.16412065523934988,
          0.16491697070224262,
          0.16574342252769098,
          0.16659956222319008,
          0.16748493451920393,
          0.16839907833780748,
          0.16934152773410768,
          0.17031181280756086,
          0.17130946058070257,
          0.17233399584319534,
          0.17338494195947704,
          0.17446182163865392,
          0.17556415766562758,
          0.1766914735927648,
          0.1778432943917246,
          0.1790191470653296,
          0.18021856121962618,
          0.18144106959650483,
          0.1826862085674582,
          0.18395351858923362,
          0.1852425446222971,
          0.1865528365131592,
          0.1878839493417275,
          0.18923544373494539,
          0.19060688614805105,
          0.19199784911484838,
          0.1934079114684236,
          0.19483665853376939,
          0.19628368229378942,
          0.19774858153016273,
          0.19923096194053555,
          0.20073043623349293,
          0.20224662420273712,
          0.20377915278186706,
          0.20532765608111694,
          0.20689177540736817,
          0.20847115926870532,
          0.21006546336473408,
          0.21167435056383313,
          0.2132974908684539,
          0.21493456136953257,
          0.21658524619102315,
          0.2182492364255059,
          0.21992623006177378,
          0.22134891777084056
         ],
         "y": [
          0.144,
          0.14478787878787877,
          0.14557575757575755,
          0.14636363636363636,
          0.14715151515151514,
          0.14793939393939393,
          0.1487272727272727,
          0.14951515151515152,
          0.1503030303030303,
          0.15109090909090908,
          0.15187878787878786,
          0.15266666666666664,
          0.15345454545454545,
          0.15424242424242424,
          0.15503030303030302,
          0.1558181818181818,
          0.1566060606060606,
          0.1573939393939394,
          0.15818181818181817,
          0.15896969696969696,
          0.15975757575757576,
          0.16054545454545455,
          0.16133333333333333,
          0.1621212121212121,
          0.1629090909090909,
          0.1636969696969697,
          0.16448484848484848,
          0.16527272727272727,
          0.16606060606060605,
          0.16684848484848486,
          0.16763636363636364,
          0.16842424242424242,
          0.1692121212121212,
          0.16999999999999998,
          0.1707878787878788,
          0.17157575757575758,
          0.17236363636363636,
          0.17315151515151514,
          0.17393939393939395,
          0.17472727272727273,
          0.1755151515151515,
          0.1763030303030303,
          0.17709090909090908,
          0.17787878787878786,
          0.17866666666666667,
          0.17945454545454545,
          0.18024242424242423,
          0.18103030303030304,
          0.18181818181818182,
          0.1826060606060606,
          0.1833939393939394,
          0.18418181818181817,
          0.18496969696969695,
          0.18575757575757576,
          0.18654545454545454,
          0.18733333333333332,
          0.18812121212121213,
          0.18890909090909092,
          0.1896969696969697,
          0.19048484848484848,
          0.19127272727272726,
          0.19206060606060604,
          0.19284848484848485,
          0.19363636363636363,
          0.19442424242424242,
          0.19521212121212123,
          0.196,
          0.1967878787878788,
          0.19757575757575757,
          0.19836363636363635,
          0.19915151515151513,
          0.19993939393939394,
          0.20072727272727273,
          0.2015151515151515,
          0.20230303030303032,
          0.2030909090909091,
          0.20387878787878788,
          0.20466666666666666,
          0.20545454545454545,
          0.20624242424242423,
          0.20703030303030304,
          0.20781818181818182,
          0.20860606060606063,
          0.2093939393939394,
          0.2101818181818182,
          0.21096969696969697,
          0.21175757575757576,
          0.21254545454545454,
          0.21333333333333332,
          0.21412121212121213,
          0.2149090909090909,
          0.21569696969696972,
          0.2164848484848485,
          0.21727272727272728,
          0.21806060606060607,
          0.21884848484848485,
          0.21963636363636363,
          0.2204242424242424,
          0.22121212121212122,
          0.222
         ]
        },
        {
         "marker": {
          "color": "rgb(27,158, 119)"
         },
         "mode": "markers",
         "name": "NSGA-II",
         "type": "scatter",
         "x": [
          0.17270719283262714,
          0.16766579326769376,
          0.16335756972181084,
          0.159884054746904,
          0.15730316691189922,
          0.15566179065894217,
          0.15498780614609672,
          0.15529536221267035,
          0.15657996940767682,
          0.15881525458048448,
          0.16196110939236943,
          0.16597028784264564,
          0.17078073048747194,
          0.17632596610380755,
          0.18253599478659302,
          0.18934796694405295,
          0.19669962269230182,
          0.20452854538207038,
          0.21277755181944358,
          0.22134891777084056,
          0.15512772383356552,
          0.15519660647413436,
          0.15928957075016964,
          0.18413229841218787,
          0.1662577853733206,
          0.18135782080745655,
          0.17360686437523976,
          0.15497343163531946,
          0.15563508696108005,
          0.15517646676826233,
          0.17445400879408324,
          0.18123967451575257,
          0.16768199004266748,
          0.16397922961561312,
          0.15506005643278756,
          0.16556409922837145,
          0.1618138763594551,
          0.17741401197149848,
          0.16253322591495406,
          0.17989796672898112
         ],
         "y": [
          0.14407140262287,
          0.14813498200230835,
          0.15222944180345407,
          0.156326780882774,
          0.16042589092832266,
          0.16452250406392727,
          0.1686205340464847,
          0.17272273381528935,
          0.17682520942302224,
          0.18092361892066386,
          0.1850203022167333,
          0.18912053281366498,
          0.19322147664485803,
          0.19732218983506353,
          0.201420846186245,
          0.2055196192501503,
          0.20961861818942082,
          0.213715627683267,
          0.21780896737138128,
          0.2218758829944493,
          0.1717073925662126,
          0.16660798607430882,
          0.18162368148121022,
          0.2024130951312135,
          0.18938568108840947,
          0.2006740829071379,
          0.1953760378966613,
          0.16970334217169675,
          0.1741600514523371,
          0.17204285193409052,
          0.1959943503830654,
          0.2005984829923598,
          0.19065678727123103,
          0.1871901706003777,
          0.17113836085833864,
          0.1887405315324325,
          0.1848512211229719,
          0.19807192813701882,
          0.18566204108920187,
          0.19973029092681405
         ]
        }
       ],
       "layout": {
        "template": {
         "data": {
          "bar": [
           {
            "error_x": {
             "color": "#2a3f5f"
            },
            "error_y": {
             "color": "#2a3f5f"
            },
            "marker": {
             "line": {
              "color": "#E5ECF6",
              "width": 0.5
             },
             "pattern": {
              "fillmode": "overlay",
              "size": 10,
              "solidity": 0.2
             }
            },
            "type": "bar"
           }
          ],
          "barpolar": [
           {
            "marker": {
             "line": {
              "color": "#E5ECF6",
              "width": 0.5
             },
             "pattern": {
              "fillmode": "overlay",
              "size": 10,
              "solidity": 0.2
             }
            },
            "type": "barpolar"
           }
          ],
          "carpet": [
           {
            "aaxis": {
             "endlinecolor": "#2a3f5f",
             "gridcolor": "white",
             "linecolor": "white",
             "minorgridcolor": "white",
             "startlinecolor": "#2a3f5f"
            },
            "baxis": {
             "endlinecolor": "#2a3f5f",
             "gridcolor": "white",
             "linecolor": "white",
             "minorgridcolor": "white",
             "startlinecolor": "#2a3f5f"
            },
            "type": "carpet"
           }
          ],
          "choropleth": [
           {
            "colorbar": {
             "outlinewidth": 0,
             "ticks": ""
            },
            "type": "choropleth"
           }
          ],
          "contour": [
           {
            "colorbar": {
             "outlinewidth": 0,
             "ticks": ""
            },
            "colorscale": [
             [
              0,
              "#0d0887"
             ],
             [
              0.1111111111111111,
              "#46039f"
             ],
             [
              0.2222222222222222,
              "#7201a8"
             ],
             [
              0.3333333333333333,
              "#9c179e"
             ],
             [
              0.4444444444444444,
              "#bd3786"
             ],
             [
              0.5555555555555556,
              "#d8576b"
             ],
             [
              0.6666666666666666,
              "#ed7953"
             ],
             [
              0.7777777777777778,
              "#fb9f3a"
             ],
             [
              0.8888888888888888,
              "#fdca26"
             ],
             [
              1,
              "#f0f921"
             ]
            ],
            "type": "contour"
           }
          ],
          "contourcarpet": [
           {
            "colorbar": {
             "outlinewidth": 0,
             "ticks": ""
            },
            "type": "contourcarpet"
           }
          ],
          "heatmap": [
           {
            "colorbar": {
             "outlinewidth": 0,
             "ticks": ""
            },
            "colorscale": [
             [
              0,
              "#0d0887"
             ],
             [
              0.1111111111111111,
              "#46039f"
             ],
             [
              0.2222222222222222,
              "#7201a8"
             ],
             [
              0.3333333333333333,
              "#9c179e"
             ],
             [
              0.4444444444444444,
              "#bd3786"
             ],
             [
              0.5555555555555556,
              "#d8576b"
             ],
             [
              0.6666666666666666,
              "#ed7953"
             ],
             [
              0.7777777777777778,
              "#fb9f3a"
             ],
             [
              0.8888888888888888,
              "#fdca26"
             ],
             [
              1,
              "#f0f921"
             ]
            ],
            "type": "heatmap"
           }
          ],
          "heatmapgl": [
           {
            "colorbar": {
             "outlinewidth": 0,
             "ticks": ""
            },
            "colorscale": [
             [
              0,
              "#0d0887"
             ],
             [
              0.1111111111111111,
              "#46039f"
             ],
             [
              0.2222222222222222,
              "#7201a8"
             ],
             [
              0.3333333333333333,
              "#9c179e"
             ],
             [
              0.4444444444444444,
              "#bd3786"
             ],
             [
              0.5555555555555556,
              "#d8576b"
             ],
             [
              0.6666666666666666,
              "#ed7953"
             ],
             [
              0.7777777777777778,
              "#fb9f3a"
             ],
             [
              0.8888888888888888,
              "#fdca26"
             ],
             [
              1,
              "#f0f921"
             ]
            ],
            "type": "heatmapgl"
           }
          ],
          "histogram": [
           {
            "marker": {
             "pattern": {
              "fillmode": "overlay",
              "size": 10,
              "solidity": 0.2
             }
            },
            "type": "histogram"
           }
          ],
          "histogram2d": [
           {
            "colorbar": {
             "outlinewidth": 0,
             "ticks": ""
            },
            "colorscale": [
             [
              0,
              "#0d0887"
             ],
             [
              0.1111111111111111,
              "#46039f"
             ],
             [
              0.2222222222222222,
              "#7201a8"
             ],
             [
              0.3333333333333333,
              "#9c179e"
             ],
             [
              0.4444444444444444,
              "#bd3786"
             ],
             [
              0.5555555555555556,
              "#d8576b"
             ],
             [
              0.6666666666666666,
              "#ed7953"
             ],
             [
              0.7777777777777778,
              "#fb9f3a"
             ],
             [
              0.8888888888888888,
              "#fdca26"
             ],
             [
              1,
              "#f0f921"
             ]
            ],
            "type": "histogram2d"
           }
          ],
          "histogram2dcontour": [
           {
            "colorbar": {
             "outlinewidth": 0,
             "ticks": ""
            },
            "colorscale": [
             [
              0,
              "#0d0887"
             ],
             [
              0.1111111111111111,
              "#46039f"
             ],
             [
              0.2222222222222222,
              "#7201a8"
             ],
             [
              0.3333333333333333,
              "#9c179e"
             ],
             [
              0.4444444444444444,
              "#bd3786"
             ],
             [
              0.5555555555555556,
              "#d8576b"
             ],
             [
              0.6666666666666666,
              "#ed7953"
             ],
             [
              0.7777777777777778,
              "#fb9f3a"
             ],
             [
              0.8888888888888888,
              "#fdca26"
             ],
             [
              1,
              "#f0f921"
             ]
            ],
            "type": "histogram2dcontour"
           }
          ],
          "mesh3d": [
           {
            "colorbar": {
             "outlinewidth": 0,
             "ticks": ""
            },
            "type": "mesh3d"
           }
          ],
          "parcoords": [
           {
            "line": {
             "colorbar": {
              "outlinewidth": 0,
              "ticks": ""
             }
            },
            "type": "parcoords"
           }
          ],
          "pie": [
           {
            "automargin": true,
            "type": "pie"
           }
          ],
          "scatter": [
           {
            "fillpattern": {
             "fillmode": "overlay",
             "size": 10,
             "solidity": 0.2
            },
            "type": "scatter"
           }
          ],
          "scatter3d": [
           {
            "line": {
             "colorbar": {
              "outlinewidth": 0,
              "ticks": ""
             }
            },
            "marker": {
             "colorbar": {
              "outlinewidth": 0,
              "ticks": ""
             }
            },
            "type": "scatter3d"
           }
          ],
          "scattercarpet": [
           {
            "marker": {
             "colorbar": {
              "outlinewidth": 0,
              "ticks": ""
             }
            },
            "type": "scattercarpet"
           }
          ],
          "scattergeo": [
           {
            "marker": {
             "colorbar": {
              "outlinewidth": 0,
              "ticks": ""
             }
            },
            "type": "scattergeo"
           }
          ],
          "scattergl": [
           {
            "marker": {
             "colorbar": {
              "outlinewidth": 0,
              "ticks": ""
             }
            },
            "type": "scattergl"
           }
          ],
          "scattermapbox": [
           {
            "marker": {
             "colorbar": {
              "outlinewidth": 0,
              "ticks": ""
             }
            },
            "type": "scattermapbox"
           }
          ],
          "scatterpolar": [
           {
            "marker": {
             "colorbar": {
              "outlinewidth": 0,
              "ticks": ""
             }
            },
            "type": "scatterpolar"
           }
          ],
          "scatterpolargl": [
           {
            "marker": {
             "colorbar": {
              "outlinewidth": 0,
              "ticks": ""
             }
            },
            "type": "scatterpolargl"
           }
          ],
          "scatterternary": [
           {
            "marker": {
             "colorbar": {
              "outlinewidth": 0,
              "ticks": ""
             }
            },
            "type": "scatterternary"
           }
          ],
          "surface": [
           {
            "colorbar": {
             "outlinewidth": 0,
             "ticks": ""
            },
            "colorscale": [
             [
              0,
              "#0d0887"
             ],
             [
              0.1111111111111111,
              "#46039f"
             ],
             [
              0.2222222222222222,
              "#7201a8"
             ],
             [
              0.3333333333333333,
              "#9c179e"
             ],
             [
              0.4444444444444444,
              "#bd3786"
             ],
             [
              0.5555555555555556,
              "#d8576b"
             ],
             [
              0.6666666666666666,
              "#ed7953"
             ],
             [
              0.7777777777777778,
              "#fb9f3a"
             ],
             [
              0.8888888888888888,
              "#fdca26"
             ],
             [
              1,
              "#f0f921"
             ]
            ],
            "type": "surface"
           }
          ],
          "table": [
           {
            "cells": {
             "fill": {
              "color": "#EBF0F8"
             },
             "line": {
              "color": "white"
             }
            },
            "header": {
             "fill": {
              "color": "#C8D4E3"
             },
             "line": {
              "color": "white"
             }
            },
            "type": "table"
           }
          ]
         },
         "layout": {
          "annotationdefaults": {
           "arrowcolor": "#2a3f5f",
           "arrowhead": 0,
           "arrowwidth": 1
          },
          "autotypenumbers": "strict",
          "coloraxis": {
           "colorbar": {
            "outlinewidth": 0,
            "ticks": ""
           }
          },
          "colorscale": {
           "diverging": [
            [
             0,
             "#8e0152"
            ],
            [
             0.1,
             "#c51b7d"
            ],
            [
             0.2,
             "#de77ae"
            ],
            [
             0.3,
             "#f1b6da"
            ],
            [
             0.4,
             "#fde0ef"
            ],
            [
             0.5,
             "#f7f7f7"
            ],
            [
             0.6,
             "#e6f5d0"
            ],
            [
             0.7,
             "#b8e186"
            ],
            [
             0.8,
             "#7fbc41"
            ],
            [
             0.9,
             "#4d9221"
            ],
            [
             1,
             "#276419"
            ]
           ],
           "sequential": [
            [
             0,
             "#0d0887"
            ],
            [
             0.1111111111111111,
             "#46039f"
            ],
            [
             0.2222222222222222,
             "#7201a8"
            ],
            [
             0.3333333333333333,
             "#9c179e"
            ],
            [
             0.4444444444444444,
             "#bd3786"
            ],
            [
             0.5555555555555556,
             "#d8576b"
            ],
            [
             0.6666666666666666,
             "#ed7953"
            ],
            [
             0.7777777777777778,
             "#fb9f3a"
            ],
            [
             0.8888888888888888,
             "#fdca26"
            ],
            [
             1,
             "#f0f921"
            ]
           ],
           "sequentialminus": [
            [
             0,
             "#0d0887"
            ],
            [
             0.1111111111111111,
             "#46039f"
            ],
            [
             0.2222222222222222,
             "#7201a8"
            ],
            [
             0.3333333333333333,
             "#9c179e"
            ],
            [
             0.4444444444444444,
             "#bd3786"
            ],
            [
             0.5555555555555556,
             "#d8576b"
            ],
            [
             0.6666666666666666,
             "#ed7953"
            ],
            [
             0.7777777777777778,
             "#fb9f3a"
            ],
            [
             0.8888888888888888,
             "#fdca26"
            ],
            [
             1,
             "#f0f921"
            ]
           ]
          },
          "colorway": [
           "#636efa",
           "#EF553B",
           "#00cc96",
           "#ab63fa",
           "#FFA15A",
           "#19d3f3",
           "#FF6692",
           "#B6E880",
           "#FF97FF",
           "#FECB52"
          ],
          "font": {
           "color": "#2a3f5f"
          },
          "geo": {
           "bgcolor": "white",
           "lakecolor": "white",
           "landcolor": "#E5ECF6",
           "showlakes": true,
           "showland": true,
           "subunitcolor": "white"
          },
          "hoverlabel": {
           "align": "left"
          },
          "hovermode": "closest",
          "mapbox": {
           "style": "light"
          },
          "paper_bgcolor": "white",
          "plot_bgcolor": "#E5ECF6",
          "polar": {
           "angularaxis": {
            "gridcolor": "white",
            "linecolor": "white",
            "ticks": ""
           },
           "bgcolor": "#E5ECF6",
           "radialaxis": {
            "gridcolor": "white",
            "linecolor": "white",
            "ticks": ""
           }
          },
          "scene": {
           "xaxis": {
            "backgroundcolor": "#E5ECF6",
            "gridcolor": "white",
            "gridwidth": 2,
            "linecolor": "white",
            "showbackground": true,
            "ticks": "",
            "zerolinecolor": "white"
           },
           "yaxis": {
            "backgroundcolor": "#E5ECF6",
            "gridcolor": "white",
            "gridwidth": 2,
            "linecolor": "white",
            "showbackground": true,
            "ticks": "",
            "zerolinecolor": "white"
           },
           "zaxis": {
            "backgroundcolor": "#E5ECF6",
            "gridcolor": "white",
            "gridwidth": 2,
            "linecolor": "white",
            "showbackground": true,
            "ticks": "",
            "zerolinecolor": "white"
           }
          },
          "shapedefaults": {
           "line": {
            "color": "#2a3f5f"
           }
          },
          "ternary": {
           "aaxis": {
            "gridcolor": "white",
            "linecolor": "white",
            "ticks": ""
           },
           "baxis": {
            "gridcolor": "white",
            "linecolor": "white",
            "ticks": ""
           },
           "bgcolor": "#E5ECF6",
           "caxis": {
            "gridcolor": "white",
            "linecolor": "white",
            "ticks": ""
           }
          },
          "title": {
           "x": 0.05
          },
          "xaxis": {
           "automargin": true,
           "gridcolor": "white",
           "linecolor": "white",
           "ticks": "",
           "title": {
            "standoff": 15
           },
           "zerolinecolor": "white",
           "zerolinewidth": 2
          },
          "yaxis": {
           "automargin": true,
           "gridcolor": "white",
           "linecolor": "white",
           "ticks": "",
           "title": {
            "standoff": 15
           },
           "zerolinecolor": "white",
           "zerolinewidth": 2
          }
         }
        },
        "xaxis": {
         "title": {
          "text": "Expected Annual Risk"
         }
        },
        "yaxis": {
         "title": {
          "text": "Expected Annual Return"
         }
        }
       }
      }
     },
     "metadata": {},
     "output_type": "display_data"
    }
   ],
   "source": [
    "X_nsgaii, F_nsgaii, ESG_nsgaii =pymoo_extras.get_weights_with_pymoo(portfolio_problem, nsgaii, termination)\n",
    "FA_nsgaii =  pymoo_extras.annualised_portfolio_quantities(F_nsgaii)\n",
    "frames = [FA_nsgaii]\n",
    "labels = ['NSGA-II']\n",
    "fig=my_plotting.plotting_samples_plotly(ef_R, frames, labels, colors)\n",
    "fig.show()"
   ]
  }
 ],
 "metadata": {
  "kernelspec": {
   "display_name": "Python 3",
   "language": "python",
   "name": "python3"
  },
  "language_info": {
   "codemirror_mode": {
    "name": "ipython",
    "version": 3
   },
   "file_extension": ".py",
   "mimetype": "text/x-python",
   "name": "python",
   "nbconvert_exporter": "python",
   "pygments_lexer": "ipython3",
   "version": "3.10.8"
  },
  "orig_nbformat": 4
 },
 "nbformat": 4,
 "nbformat_minor": 2
}
