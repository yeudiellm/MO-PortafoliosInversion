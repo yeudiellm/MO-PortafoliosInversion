{
 "cells": [
  {
   "cell_type": "code",
   "execution_count": null,
   "metadata": {},
   "outputs": [],
   "source": [
    "from pymoo.core.problem import ElementwiseProblem\n",
    "from pymoo.core.repair import Repair\n",
    "from pymoo.optimize import minimize\n",
    "from pymoo.core.crossover import Crossover\n",
    "from pymoo.operators.crossover.binx import BX\n",
    "from pymoo.core.mutation import Mutation\n",
    "from pymoo.core.sampling import Sampling\n",
    "from pymoo.core.population import Population\n",
    "from pymoo.core.evaluator import Evaluator\n",
    "from pymoo.util.ref_dirs import get_reference_directions\n",
    "from pymoo.visualization.scatter import Scatter\n",
    "import numpy as np \n",
    "import pandas as pd\n",
    "\n",
    "class Portfolio_Problem(ElementwiseProblem):\n",
    "    def __init__(self,N, profits, risk,esg, **kwargs):\n",
    "        self.profits = profits\n",
    "        self.risk = risk\n",
    "        self.esg = esg\n",
    "        super().__init__(n_var=N,\n",
    "                         n_obj=2,\n",
    "                         xl=0.0,\n",
    "                         xu=1.0,\n",
    "                         **kwargs)\n",
    "\n",
    "    def _evaluate(self, x, out, *args, **kwargs):\n",
    "        #NORMALIZAR X antes de empezar\n",
    "        s = np.sum(x)\n",
    "        x = x/s\n",
    "        #Función de evaluacion\n",
    "        exp_return  =   self.profits@x\n",
    "        exp_risk    =   np.sqrt(x.T@self.risk@x)\n",
    "        exp_esg     =   self.esg@x\n",
    "        sharpe      =   exp_return / exp_risk\n",
    "        out['F']    =   [exp_risk, -exp_return]\n",
    "        out['ESG']  =   exp_esg\n",
    "        out['Sharpe'] = sharpe\n",
    "        \n",
    "class Portfolio_Repair(Repair):\n",
    "    def _do(self, problem, X, **kwargs):\n",
    "        X[X < 1e-3] = 0\n",
    "        return X / X.sum(axis=1, keepdims=True)"
   ]
  },
  {
   "cell_type": "code",
   "execution_count": null,
   "metadata": {},
   "outputs": [],
   "source": [
    "class MySampling(Sampling):\n",
    "    def _do(self, problem, n_samples, **kwargs):\n",
    "        #100 individuos (a lo más 2000)\n",
    "        #problem.n_var la cantidad de activos. \n",
    "        X = get_reference_directions(\"energy\", problem.n_var, n_samples, seed=1)\n",
    "        return X \n",
    "    \n",
    "class MyCrossover(Crossover):\n",
    "    def __init__(self):\n",
    "        # define the crossover: number of parents and number of offsprings\n",
    "        super().__init__(3, 1)\n",
    "\n",
    "    def _do(self, problem, X, **kwargs):\n",
    "        # The input of has the following shape (n_parents, n_matings, n_var)\n",
    "        n_parents, n_matings, n_var = X.shape\n",
    "        # The output owith the shape (n_offsprings, n_matings, n_var)\n",
    "        # Because there the number of parents and offsprings are equal it keeps the shape of X\n",
    "        _X = np.full(self.n_offsprings, n_matings, problem.n_var), 0)\n",
    "        for k in range(n_matings): \n",
    "            x0, x1, x2 = X[0, k], X[1, k], X[2, k] \n",
    "            alpha = 0.8  #¿Mejor valor para alpha? \n",
    "            off_x0= x0 + alpha*(x2-x1)\n",
    "            off_x0[off_x0<0]=0 #Reparar negativos\n",
    "            off_x0= off_x0/np.sum(off_x0) #Reparar suma \n",
    "            _X[0, k] = off_x0\n",
    "        \n",
    "        #Falta un segundo crossover \n",
    "        return _X\n",
    "    \n",
    "class MyMutation(Mutation):\n",
    "    def __init__(self):\n",
    "        super().__init__()\n",
    "\n",
    "    def _do(self, problem, X, **kwargs):\n",
    "\n",
    "        # for each individual\n",
    "        for i in range(len(X)):\n",
    "\n",
    "            r = np.random.random()\n",
    "\n",
    "            # with a probabilty of 40% - change the order of characters\n",
    "            if r < 0.4:\n",
    "                perm = np.random.permutation(problem.n_characters)\n",
    "                X[i, 0] = \"\".join(np.array([e for e in X[i, 0]])[perm])\n",
    "\n",
    "            # also with a probabilty of 40% - change a character randomly\n",
    "            elif r < 0.8:\n",
    "                prob = 1 / problem.n_characters\n",
    "                mut = [c if np.random.random() > prob\n",
    "                       else np.random.choice(problem.ALPHABET) for c in X[i, 0]]\n",
    "                X[i, 0] = \"\".join(mut)\n",
    "\n",
    "        return X"
   ]
  },
  {
   "cell_type": "code",
   "execution_count": 3,
   "metadata": {},
   "outputs": [
    {
     "data": {
      "text/plain": [
       "array([[0.        , 0.        , 1.        ],\n",
       "       [0.        , 0.03916851, 0.96083149],\n",
       "       [0.        , 0.07656481, 0.92343519],\n",
       "       ...,\n",
       "       [0.95966447, 0.        , 0.04033553],\n",
       "       [0.96190939, 0.03809061, 0.        ],\n",
       "       [1.        , 0.        , 0.        ]])"
      ]
     },
     "execution_count": 3,
     "metadata": {},
     "output_type": "execute_result"
    }
   ],
   "source": [
    "\n",
    "\n",
    "ref_dirs = get_reference_directions(\"energy\", 3, 400, seed=1)\n",
    "ref_dirs"
   ]
  },
  {
   "cell_type": "code",
   "execution_count": 4,
   "metadata": {},
   "outputs": [
    {
     "data": {
      "text/plain": [
       "(400, 3)"
      ]
     },
     "execution_count": 4,
     "metadata": {},
     "output_type": "execute_result"
    }
   ],
   "source": [
    "ref_dirs.shape"
   ]
  }
 ],
 "metadata": {
  "kernelspec": {
   "display_name": "Python 3",
   "language": "python",
   "name": "python3"
  },
  "language_info": {
   "codemirror_mode": {
    "name": "ipython",
    "version": 3
   },
   "file_extension": ".py",
   "mimetype": "text/x-python",
   "name": "python",
   "nbconvert_exporter": "python",
   "pygments_lexer": "ipython3",
   "version": "3.10.8"
  },
  "orig_nbformat": 4
 },
 "nbformat": 4,
 "nbformat_minor": 2
}
