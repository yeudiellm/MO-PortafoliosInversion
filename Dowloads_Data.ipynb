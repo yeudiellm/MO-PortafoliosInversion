{
 "cells": [
  {
   "cell_type": "markdown",
   "metadata": {},
   "source": [
    "# Getting data for expeirments \n",
    "\n",
    "This notebook is used for getting the stocks data from some webpages as https://www.slickcharts.com/ and https://finance.yahoo.com/"
   ]
  },
  {
   "cell_type": "markdown",
   "metadata": {},
   "source": [
    "## Libraries"
   ]
  },
  {
   "cell_type": "code",
   "execution_count": 2,
   "metadata": {},
   "outputs": [],
   "source": [
    "import requests\n",
    "import pandas as pd\n",
    "import yfinance as yf\n",
    "from Plugins import pre_processing\n",
    "from Plugins import ArchievingStrategies"
   ]
  },
  {
   "cell_type": "markdown",
   "metadata": {},
   "source": [
    "## Downloading data"
   ]
  },
  {
   "cell_type": "code",
   "execution_count": 3,
   "metadata": {},
   "outputs": [],
   "source": [
    "#Prepare the urls\n",
    "URL_DOWJONES ='https://www.slickcharts.com/dowjones'\n",
    "URL_NASDA100 = 'https://www.slickcharts.com/nasdaq100'\n",
    "URL_SP500    = 'https://www.slickcharts.com/sp500'\n",
    "\n",
    "list_urls    = [URL_DOWJONES, URL_NASDA100, URL_SP500 ] \n",
    "list_names   = ['dowjones', 'nasdaq100','sp500']\n",
    "list_data = []"
   ]
  },
  {
   "cell_type": "code",
   "execution_count": 3,
   "metadata": {},
   "outputs": [],
   "source": [
    "#Dowloading symbols of the stocks \n",
    "\n",
    "# Prepare a dictionary with the User-Agent header and its value (UA string for Firefox)\n",
    "request_headers = {\n",
    "    'User-Agent': 'Mozilla/5.0 (X11; Linux x86_64; rv09.0) Gecko/20100101 Firefox/111.0'\n",
    "}\n",
    "\n",
    "for url_data in list_urls:\n",
    "    # Use requests.get() to read the webpage.\n",
    "    # Pass the headers dictionary\n",
    "    response = requests.get(url_data, headers=request_headers)\n",
    "    # Now use Pandas read_html()\n",
    "    # Pass the page HTML (response.text) as input\n",
    "    html_tables = pd.read_html(response.text, index_col=0) \n",
    "    # The first table have the info of interes\n",
    "    list_data.append(html_tables[0])\n",
    "#Saving symbols \n",
    "for i, data in enumerate(list_data): \n",
    "    #Some corrections in format for the Ticker of the stocks\n",
    "    data['Symbol'] =data['Symbol'].apply(lambda x: str(x).replace('.', '-'))\n",
    "    data['Symbol'].to_csv('data/Symbols/'+list_names[i] +'.csv')"
   ]
  },
  {
   "cell_type": "code",
   "execution_count": 4,
   "metadata": {},
   "outputs": [
    {
     "name": "stdout",
     "output_type": "stream",
     "text": [
      "[*********************100%%**********************]  30 of 30 completed\n",
      "[*********************100%%**********************]  101 of 101 completed\n",
      "[*********************100%%**********************]  503 of 503 completed\n"
     ]
    }
   ],
   "source": [
    "#List of symbols\n",
    "list_symbols= []\n",
    "for name_index in list_names: \n",
    "    list_symbols.append(pd.read_csv('data/Symbols/'+name_index +'.csv', index_col=0)['Symbol'].to_list())\n",
    "#Recovering historical data \n",
    "for i, symbols in enumerate(list_symbols):\n",
    "    ohlc = yf.download(symbols, start='2021-11-01', end='2023-10-27') \n",
    "    prices = ohlc['Adj Close']\n",
    "    prices.to_csv('data/Historical/historical_'+list_names[i] +'.csv')"
   ]
  },
  {
   "cell_type": "markdown",
   "metadata": {},
   "source": [
    "## Pre-processing data "
   ]
  },
  {
   "cell_type": "code",
   "execution_count": 6,
   "metadata": {},
   "outputs": [
    {
     "name": "stdout",
     "output_type": "stream",
     "text": [
      "An error has occurred. The ticker symbol might be wrong or you might need to wait to continue.\n"
     ]
    },
    {
     "name": "stderr",
     "output_type": "stream",
     "text": [
      "29it [00:00, 7241.89it/s]\n"
     ]
    },
    {
     "name": "stdout",
     "output_type": "stream",
     "text": [
      "An error has occurred. The ticker symbol might be wrong or you might need to wait to continue.\n",
      "An error has occurred. The ticker symbol might be wrong or you might need to wait to continue.\n",
      "An error has occurred. The ticker symbol might be wrong or you might need to wait to continue.\n",
      "An error has occurred. The ticker symbol might be wrong or you might need to wait to continue.\n",
      "An error has occurred. The ticker symbol might be wrong or you might need to wait to continue.\n",
      "An error has occurred. The ticker symbol might be wrong or you might need to wait to continue.\n",
      "An error has occurred. The ticker symbol might be wrong or you might need to wait to continue.\n",
      "An error has occurred. The ticker symbol might be wrong or you might need to wait to continue.\n",
      "An error has occurred. The ticker symbol might be wrong or you might need to wait to continue.\n",
      "An error has occurred. The ticker symbol might be wrong or you might need to wait to continue.\n",
      "An error has occurred. The ticker symbol might be wrong or you might need to wait to continue.\n",
      "An error has occurred. The ticker symbol might be wrong or you might need to wait to continue.\n",
      "An error has occurred. The ticker symbol might be wrong or you might need to wait to continue.\n",
      "An error has occurred. The ticker symbol might be wrong or you might need to wait to continue.\n",
      "An error has occurred. The ticker symbol might be wrong or you might need to wait to continue.\n",
      "An error has occurred. The ticker symbol might be wrong or you might need to wait to continue.\n",
      "An error has occurred. The ticker symbol might be wrong or you might need to wait to continue.\n",
      "An error has occurred. The ticker symbol might be wrong or you might need to wait to continue.\n",
      "An error has occurred. The ticker symbol might be wrong or you might need to wait to continue.\n",
      "An error has occurred. The ticker symbol might be wrong or you might need to wait to continue.\n",
      "An error has occurred. The ticker symbol might be wrong or you might need to wait to continue.\n",
      "An error has occurred. The ticker symbol might be wrong or you might need to wait to continue.\n",
      "An error has occurred. The ticker symbol might be wrong or you might need to wait to continue.\n"
     ]
    },
    {
     "name": "stderr",
     "output_type": "stream",
     "text": [
      "76it [00:00, 10856.82it/s]\n"
     ]
    },
    {
     "name": "stdout",
     "output_type": "stream",
     "text": [
      "An error has occurred. The ticker symbol might be wrong or you might need to wait to continue.\n",
      "An error has occurred. The ticker symbol might be wrong or you might need to wait to continue.\n",
      "An error has occurred. The ticker symbol might be wrong or you might need to wait to continue.\n",
      "An error has occurred. The ticker symbol might be wrong or you might need to wait to continue.\n",
      "An error has occurred. The ticker symbol might be wrong or you might need to wait to continue.\n",
      "An error has occurred. The ticker symbol might be wrong or you might need to wait to continue.\n",
      "An error has occurred. The ticker symbol might be wrong or you might need to wait to continue.\n",
      "An error has occurred. The ticker symbol might be wrong or you might need to wait to continue.\n",
      "An error has occurred. The ticker symbol might be wrong or you might need to wait to continue.\n",
      "An error has occurred. The ticker symbol might be wrong or you might need to wait to continue.\n",
      "An error has occurred. The ticker symbol might be wrong or you might need to wait to continue.\n",
      "An error has occurred. The ticker symbol might be wrong or you might need to wait to continue.\n",
      "An error has occurred. The ticker symbol might be wrong or you might need to wait to continue.\n",
      "An error has occurred. The ticker symbol might be wrong or you might need to wait to continue.\n",
      "An error has occurred. The ticker symbol might be wrong or you might need to wait to continue.\n",
      "An error has occurred. The ticker symbol might be wrong or you might need to wait to continue.\n",
      "An error has occurred. The ticker symbol might be wrong or you might need to wait to continue.\n",
      "An error has occurred. The ticker symbol might be wrong or you might need to wait to continue.\n",
      "An error has occurred. The ticker symbol might be wrong or you might need to wait to continue.\n",
      "An error has occurred. The ticker symbol might be wrong or you might need to wait to continue.\n",
      "An error has occurred. The ticker symbol might be wrong or you might need to wait to continue.\n",
      "An error has occurred. The ticker symbol might be wrong or you might need to wait to continue.\n",
      "An error has occurred. The ticker symbol might be wrong or you might need to wait to continue.\n",
      "An error has occurred. The ticker symbol might be wrong or you might need to wait to continue.\n",
      "An error has occurred. The ticker symbol might be wrong or you might need to wait to continue.\n",
      "An error has occurred. The ticker symbol might be wrong or you might need to wait to continue.\n",
      "An error has occurred. The ticker symbol might be wrong or you might need to wait to continue.\n",
      "An error has occurred. The ticker symbol might be wrong or you might need to wait to continue.\n",
      "An error has occurred. The ticker symbol might be wrong or you might need to wait to continue.\n",
      "An error has occurred. The ticker symbol might be wrong or you might need to wait to continue.\n",
      "An error has occurred. The ticker symbol might be wrong or you might need to wait to continue.\n",
      "An error has occurred. The ticker symbol might be wrong or you might need to wait to continue.\n",
      "An error has occurred. The ticker symbol might be wrong or you might need to wait to continue.\n",
      "An error has occurred. The ticker symbol might be wrong or you might need to wait to continue.\n",
      "An error has occurred. The ticker symbol might be wrong or you might need to wait to continue.\n",
      "An error has occurred. The ticker symbol might be wrong or you might need to wait to continue.\n",
      "An error has occurred. The ticker symbol might be wrong or you might need to wait to continue.\n",
      "An error has occurred. The ticker symbol might be wrong or you might need to wait to continue.\n",
      "An error has occurred. The ticker symbol might be wrong or you might need to wait to continue.\n",
      "An error has occurred. The ticker symbol might be wrong or you might need to wait to continue.\n",
      "An error has occurred. The ticker symbol might be wrong or you might need to wait to continue.\n",
      "An error has occurred. The ticker symbol might be wrong or you might need to wait to continue.\n",
      "An error has occurred. The ticker symbol might be wrong or you might need to wait to continue.\n",
      "An error has occurred. The ticker symbol might be wrong or you might need to wait to continue.\n",
      "An error has occurred. The ticker symbol might be wrong or you might need to wait to continue.\n",
      "An error has occurred. The ticker symbol might be wrong or you might need to wait to continue.\n",
      "An error has occurred. The ticker symbol might be wrong or you might need to wait to continue.\n",
      "An error has occurred. The ticker symbol might be wrong or you might need to wait to continue.\n",
      "An error has occurred. The ticker symbol might be wrong or you might need to wait to continue.\n",
      "An error has occurred. The ticker symbol might be wrong or you might need to wait to continue.\n",
      "An error has occurred. The ticker symbol might be wrong or you might need to wait to continue.\n",
      "An error has occurred. The ticker symbol might be wrong or you might need to wait to continue.\n",
      "An error has occurred. The ticker symbol might be wrong or you might need to wait to continue.\n",
      "An error has occurred. The ticker symbol might be wrong or you might need to wait to continue.\n",
      "An error has occurred. The ticker symbol might be wrong or you might need to wait to continue.\n",
      "An error has occurred. The ticker symbol might be wrong or you might need to wait to continue.\n"
     ]
    },
    {
     "name": "stderr",
     "output_type": "stream",
     "text": [
      "443it [00:00, 26062.91it/s]\n"
     ]
    }
   ],
   "source": [
    "for name_index in list_names: \n",
    "    prices = pd.read_csv('data/Historical/historical_'+name_index +'.csv', index_col=0)\n",
    "    #Recovering returns\n",
    "    returns, assets_info= pre_processing.get_assets_info(prices, 99, log_returns=True, drop_per_esg=True)\n",
    "    #Recovering best assets according to Profit, Risk\n",
    "    best_assets = ArchievingStrategies.get_best_opt(assets_info.iloc[:, :2], 1e-6)\n",
    "    #Saving csv data \n",
    "    returns.to_csv('data/Historical/returns_'+name_index +'.csv')\n",
    "    assets_info.to_csv('data/AssetsInfo/full_'+name_index+'.csv')\n",
    "    best_assets.to_csv('data/AssetsInfo/best_'+name_index+'.csv')"
   ]
  }
 ],
 "metadata": {
  "kernelspec": {
   "display_name": "mo-portfolios",
   "language": "python",
   "name": "python3"
  },
  "language_info": {
   "codemirror_mode": {
    "name": "ipython",
    "version": 3
   },
   "file_extension": ".py",
   "mimetype": "text/x-python",
   "name": "python",
   "nbconvert_exporter": "python",
   "pygments_lexer": "ipython3",
   "version": "3.10.8"
  }
 },
 "nbformat": 4,
 "nbformat_minor": 2
}
